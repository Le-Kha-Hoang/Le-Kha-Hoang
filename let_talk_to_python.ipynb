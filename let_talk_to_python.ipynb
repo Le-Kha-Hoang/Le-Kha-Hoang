{
 "cells": [
  {
   "cell_type": "markdown",
   "id": "317279df",
   "metadata": {},
   "source": [
    " Let talk to python"
   ]
  },
  {
   "cell_type": "markdown",
   "id": "812023a8",
   "metadata": {},
   "source": [
    "#math"
   ]
  },
  {
   "cell_type": "code",
   "execution_count": 1,
   "id": "591b8565",
   "metadata": {},
   "outputs": [
    {
     "data": {
      "text/plain": [
       "9"
      ]
     },
     "execution_count": 1,
     "metadata": {},
     "output_type": "execute_result"
    }
   ],
   "source": [
    "1 + 2 + 6"
   ]
  },
  {
   "cell_type": "code",
   "execution_count": 2,
   "id": "2c61fedd",
   "metadata": {},
   "outputs": [
    {
     "data": {
      "text/plain": [
       "-4"
      ]
     },
     "execution_count": 2,
     "metadata": {},
     "output_type": "execute_result"
    }
   ],
   "source": [
    "# phép trừ\n",
    "9 - 5 - 8"
   ]
  },
  {
   "cell_type": "code",
   "execution_count": 3,
   "id": "c9ce0a88",
   "metadata": {},
   "outputs": [
    {
     "data": {
      "text/plain": [
       "3.3333333333333335"
      ]
     },
     "execution_count": 3,
     "metadata": {},
     "output_type": "execute_result"
    }
   ],
   "source": [
    "# phép chia\n",
    "10 / 3"
   ]
  },
  {
   "cell_type": "code",
   "execution_count": 4,
   "id": "f952fd77",
   "metadata": {},
   "outputs": [
    {
     "data": {
      "text/plain": [
       "3.333333"
      ]
     },
     "execution_count": 4,
     "metadata": {},
     "output_type": "execute_result"
    }
   ],
   "source": [
    "round(10/3, 6)"
   ]
  },
  {
   "cell_type": "code",
   "execution_count": 1,
   "id": "265bb693",
   "metadata": {},
   "outputs": [],
   "source": [
    "?round"
   ]
  },
  {
   "cell_type": "code",
   "execution_count": 6,
   "id": "5694a817",
   "metadata": {},
   "outputs": [
    {
     "data": {
      "text/plain": [
       "True"
      ]
     },
     "execution_count": 6,
     "metadata": {},
     "output_type": "execute_result"
    }
   ],
   "source": [
    "5 == 5"
   ]
  },
  {
   "cell_type": "code",
   "execution_count": 7,
   "id": "6079a97a",
   "metadata": {},
   "outputs": [
    {
     "data": {
      "text/plain": [
       "False"
      ]
     },
     "execution_count": 7,
     "metadata": {},
     "output_type": "execute_result"
    }
   ],
   "source": [
    "5 != 5"
   ]
  },
  {
   "cell_type": "code",
   "execution_count": 8,
   "id": "0e5cafa4",
   "metadata": {},
   "outputs": [
    {
     "data": {
      "text/plain": [
       "False"
      ]
     },
     "execution_count": 8,
     "metadata": {},
     "output_type": "execute_result"
    }
   ],
   "source": [
    "6 > 7"
   ]
  },
  {
   "cell_type": "code",
   "execution_count": 9,
   "id": "ecf84396",
   "metadata": {},
   "outputs": [
    {
     "data": {
      "text/plain": [
       "True"
      ]
     },
     "execution_count": 9,
     "metadata": {},
     "output_type": "execute_result"
    }
   ],
   "source": [
    "6>=6"
   ]
  },
  {
   "cell_type": "code",
   "execution_count": 10,
   "id": "3e7c0bac",
   "metadata": {},
   "outputs": [
    {
     "data": {
      "text/plain": [
       "4"
      ]
     },
     "execution_count": 10,
     "metadata": {},
     "output_type": "execute_result"
    }
   ],
   "source": [
    "# phép chia lấy phần nguyên\n",
    "9 // 2"
   ]
  },
  {
   "cell_type": "code",
   "execution_count": 11,
   "id": "bd67a0ea",
   "metadata": {},
   "outputs": [
    {
     "data": {
      "text/plain": [
       "1"
      ]
     },
     "execution_count": 11,
     "metadata": {},
     "output_type": "execute_result"
    }
   ],
   "source": [
    "# phép chia lấy phần dư\n",
    "9 % 2"
   ]
  },
  {
   "cell_type": "code",
   "execution_count": 12,
   "id": "ae0e9940",
   "metadata": {},
   "outputs": [
    {
     "data": {
      "text/plain": [
       "81"
      ]
     },
     "execution_count": 12,
     "metadata": {},
     "output_type": "execute_result"
    }
   ],
   "source": [
    "# lũy thừa\n",
    "3 ** 4"
   ]
  },
  {
   "cell_type": "code",
   "execution_count": 13,
   "id": "3bcda9a5",
   "metadata": {},
   "outputs": [
    {
     "data": {
      "text/plain": [
       "7"
      ]
     },
     "execution_count": 13,
     "metadata": {},
     "output_type": "execute_result"
    }
   ],
   "source": [
    "1 + 2 * 3 + 6 - 7 + (5 - 4) "
   ]
  },
  {
   "cell_type": "markdown",
   "id": "2827b5ab",
   "metadata": {},
   "source": [
    "## Strings"
   ]
  },
  {
   "cell_type": "code",
   "execution_count": 14,
   "id": "ee26c906",
   "metadata": {},
   "outputs": [
    {
     "data": {
      "text/plain": [
       "'Hello!'"
      ]
     },
     "execution_count": 14,
     "metadata": {},
     "output_type": "execute_result"
    }
   ],
   "source": [
    "\"Hello!\""
   ]
  },
  {
   "cell_type": "code",
   "execution_count": 15,
   "id": "4fc98ea2",
   "metadata": {},
   "outputs": [
    {
     "ename": "SyntaxError",
     "evalue": "invalid syntax (1523336300.py, line 2)",
     "output_type": "error",
     "traceback": [
      "\u001b[0;36m  Cell \u001b[0;32mIn [15], line 2\u001b[0;36m\u001b[0m\n\u001b[0;31m    - concatenation: +\u001b[0m\n\u001b[0m                      ^\u001b[0m\n\u001b[0;31mSyntaxError\u001b[0m\u001b[0;31m:\u001b[0m invalid syntax\n"
     ]
    }
   ],
   "source": [
    "### string operators\n",
    "- concatenation: +\n",
    "- multiplication: *"
   ]
  },
  {
   "cell_type": "markdown",
   "id": "5cbcd50a",
   "metadata": {},
   "source": [
    "### string operators\n",
    "- concatenation: +\n",
    "- multiplication: *"
   ]
  },
  {
   "cell_type": "code",
   "execution_count": 2,
   "id": "6966216f",
   "metadata": {},
   "outputs": [
    {
     "data": {
      "text/plain": [
       "'HoàngHoàngHoàngHoàngHoàngHoàngHoàngHoàngHoàngHoàng'"
      ]
     },
     "execution_count": 2,
     "metadata": {},
     "output_type": "execute_result"
    }
   ],
   "source": [
    "\"Hoàng\" * 10"
   ]
  },
  {
   "cell_type": "code",
   "execution_count": 3,
   "id": "7831483f",
   "metadata": {},
   "outputs": [
    {
     "data": {
      "text/plain": [
       "'Hello'"
      ]
     },
     "execution_count": 3,
     "metadata": {},
     "output_type": "execute_result"
    }
   ],
   "source": [
    "\"H\"+\"e\"+\"l\"+\"l\"+\"o\""
   ]
  },
  {
   "cell_type": "code",
   "execution_count": 4,
   "id": "f86977f0",
   "metadata": {},
   "outputs": [
    {
     "data": {
      "text/plain": [
       "'H'"
      ]
     },
     "execution_count": 4,
     "metadata": {},
     "output_type": "execute_result"
    }
   ],
   "source": [
    "'Hello'[0]"
   ]
  },
  {
   "cell_type": "code",
   "execution_count": 6,
   "id": "5eacd0e1",
   "metadata": {},
   "outputs": [
    {
     "data": {
      "text/plain": [
       "','"
      ]
     },
     "execution_count": 6,
     "metadata": {},
     "output_type": "execute_result"
    }
   ],
   "source": [
    "\"Hey, Trang!\"[3]"
   ]
  },
  {
   "cell_type": "markdown",
   "id": "06b58309",
   "metadata": {},
   "source": [
    "### string Index\n",
    "\n",
    "Rules:\n",
    "- Indexes start at 0\n",
    "- Space inside the string are counted"
   ]
  },
  {
   "cell_type": "markdown",
   "id": "25f5e492",
   "metadata": {},
   "source": [
    "String functions"
   ]
  },
  {
   "cell_type": "code",
   "execution_count": null,
   "id": "3bf1a39b",
   "metadata": {},
   "outputs": [],
   "source": [
    "\"Lê Khả Hoàng\".upper()"
   ]
  },
  {
   "cell_type": "code",
   "execution_count": null,
   "id": "df317abb",
   "metadata": {},
   "outputs": [],
   "source": [
    "\"Lê Khả Hoàng\".lower()"
   ]
  },
  {
   "cell_type": "code",
   "execution_count": null,
   "id": "33a5e12b",
   "metadata": {},
   "outputs": [],
   "source": [
    "len(\"This is a string\")"
   ]
  },
  {
   "cell_type": "code",
   "execution_count": null,
   "id": "75c98ad3",
   "metadata": {},
   "outputs": [],
   "source": [
    "len(\"    This is a string  \")"
   ]
  },
  {
   "cell_type": "code",
   "execution_count": null,
   "id": "b86aa826",
   "metadata": {},
   "outputs": [],
   "source": [
    "\"    This is a string    \".strip()"
   ]
  },
  {
   "cell_type": "code",
   "execution_count": null,
   "id": "d94ba17b",
   "metadata": {},
   "outputs": [],
   "source": [
    "\"#This is a string\".startswith(\"#\")"
   ]
  },
  {
   "cell_type": "code",
   "execution_count": null,
   "id": "dabb3a1b",
   "metadata": {},
   "outputs": [],
   "source": [
    "\"#This is a string\".startswith(\"*\")"
   ]
  },
  {
   "cell_type": "code",
   "execution_count": null,
   "id": "e84c9fe9",
   "metadata": {},
   "outputs": [],
   "source": [
    "\"#This is a string*\".endswith(\"#\")"
   ]
  },
  {
   "cell_type": "code",
   "execution_count": null,
   "id": "f6d41008",
   "metadata": {},
   "outputs": [],
   "source": [
    "\"#This is a string\".endswith(\"string\")"
   ]
  },
  {
   "cell_type": "code",
   "execution_count": null,
   "id": "c01b70ca",
   "metadata": {},
   "outputs": [],
   "source": [
    "# substring\n",
    "\"Hello World!\"[2:5]"
   ]
  },
  {
   "cell_type": "code",
   "execution_count": null,
   "id": "90f34a06",
   "metadata": {},
   "outputs": [],
   "source": [
    "\"Hello World!\"[-1]"
   ]
  },
  {
   "cell_type": "code",
   "execution_count": null,
   "id": "72dddb60",
   "metadata": {},
   "outputs": [],
   "source": [
    "\"Hello World!\"[2:-2]"
   ]
  },
  {
   "cell_type": "code",
   "execution_count": null,
   "id": "d4ab4de7",
   "metadata": {},
   "outputs": [],
   "source": [
    "\"Hello World!\"[1:10:2]"
   ]
  },
  {
   "cell_type": "code",
   "execution_count": null,
   "id": "897facdd",
   "metadata": {},
   "outputs": [],
   "source": [
    "\"Hello World!\"[::-1]"
   ]
  },
  {
   "cell_type": "markdown",
   "id": "05291b50",
   "metadata": {},
   "source": [
    "Variables"
   ]
  },
  {
   "cell_type": "code",
   "execution_count": null,
   "id": "9204c619",
   "metadata": {},
   "outputs": [],
   "source": [
    "a = 14 * 14"
   ]
  },
  {
   "cell_type": "code",
   "execution_count": null,
   "id": "15ee80df",
   "metadata": {},
   "outputs": [],
   "source": [
    "a"
   ]
  },
  {
   "cell_type": "code",
   "execution_count": null,
   "id": "75f9e217",
   "metadata": {},
   "outputs": [],
   "source": [
    "b = 20"
   ]
  },
  {
   "cell_type": "code",
   "execution_count": null,
   "id": "4e81ca80",
   "metadata": {},
   "outputs": [],
   "source": [
    "a + b"
   ]
  },
  {
   "cell_type": "code",
   "execution_count": null,
   "id": "2ad807d5",
   "metadata": {},
   "outputs": [],
   "source": [
    "a * b"
   ]
  },
  {
   "cell_type": "code",
   "execution_count": null,
   "id": "39a82447",
   "metadata": {},
   "outputs": [],
   "source": [
    "s = \"Hello World!\""
   ]
  },
  {
   "cell_type": "code",
   "execution_count": null,
   "id": "80cb2da9",
   "metadata": {},
   "outputs": [],
   "source": [
    "s.startswith(\"He\")"
   ]
  },
  {
   "cell_type": "code",
   "execution_count": null,
   "id": "cca1a2cd",
   "metadata": {},
   "outputs": [],
   "source": [
    "print(\"Hello World!\")"
   ]
  },
  {
   "cell_type": "code",
   "execution_count": null,
   "id": "76550c01",
   "metadata": {},
   "outputs": [],
   "source": [
    "s = input()"
   ]
  },
  {
   "cell_type": "code",
   "execution_count": null,
   "id": "85aa57ce",
   "metadata": {},
   "outputs": [],
   "source": [
    "s = int (input())"
   ]
  },
  {
   "cell_type": "code",
   "execution_count": null,
   "id": "f0d0a258",
   "metadata": {},
   "outputs": [],
   "source": [
    "type(s)"
   ]
  },
  {
   "cell_type": "code",
   "execution_count": null,
   "id": "1bab9c62",
   "metadata": {},
   "outputs": [],
   "source": [
    "s * 5"
   ]
  },
  {
   "cell_type": "code",
   "execution_count": null,
   "id": "c477eb1d",
   "metadata": {},
   "outputs": [],
   "source": [
    "\"This string\" + 5"
   ]
  },
  {
   "cell_type": "markdown",
   "id": "eba6d3eb",
   "metadata": {},
   "source": [
    "### Types of data"
   ]
  },
  {
   "cell_type": "code",
   "execution_count": 1,
   "id": "3f8f6d3e",
   "metadata": {},
   "outputs": [],
   "source": [
    "s = \"Hello\""
   ]
  },
  {
   "cell_type": "code",
   "execution_count": null,
   "id": "be218893",
   "metadata": {},
   "outputs": [],
   "source": [
    "type(s)"
   ]
  },
  {
   "cell_type": "code",
   "execution_count": null,
   "id": "3f2d7d8e",
   "metadata": {},
   "outputs": [],
   "source": [
    "s = 14.6"
   ]
  },
  {
   "cell_type": "code",
   "execution_count": null,
   "id": "27d82760",
   "metadata": {},
   "outputs": [],
   "source": [
    "type(s)"
   ]
  },
  {
   "cell_type": "markdown",
   "id": "526f70ab",
   "metadata": {},
   "source": [
    "### Booleans"
   ]
  },
  {
   "cell_type": "code",
   "execution_count": null,
   "id": "9c819bf6",
   "metadata": {},
   "outputs": [],
   "source": [
    "True"
   ]
  },
  {
   "cell_type": "code",
   "execution_count": null,
   "id": "a695885b",
   "metadata": {},
   "outputs": [],
   "source": [
    "False"
   ]
  },
  {
   "cell_type": "code",
   "execution_count": null,
   "id": "014d6437",
   "metadata": {},
   "outputs": [],
   "source": [
    "True"
   ]
  },
  {
   "cell_type": "code",
   "execution_count": null,
   "id": "1ac21003",
   "metadata": {},
   "outputs": [],
   "source": [
    "1 == 1"
   ]
  },
  {
   "cell_type": "code",
   "execution_count": null,
   "id": "b6783d03",
   "metadata": {},
   "outputs": [],
   "source": [
    "# and\n",
    "1 == 1 and 2 != 4"
   ]
  },
  {
   "cell_type": "code",
   "execution_count": null,
   "id": "3581feda",
   "metadata": {},
   "outputs": [],
   "source": [
    "1 == 1 and 2== 7"
   ]
  },
  {
   "cell_type": "code",
   "execution_count": null,
   "id": "577c18a7",
   "metadata": {},
   "outputs": [],
   "source": [
    "# or\n",
    "1 == 1 or 2 ==4"
   ]
  },
  {
   "cell_type": "code",
   "execution_count": null,
   "id": "3133cf50",
   "metadata": {},
   "outputs": [],
   "source": [
    "True and True"
   ]
  },
  {
   "cell_type": "code",
   "execution_count": null,
   "id": "c0a03f47",
   "metadata": {},
   "outputs": [],
   "source": [
    "False and True"
   ]
  },
  {
   "cell_type": "code",
   "execution_count": null,
   "id": "f4a4b79e",
   "metadata": {},
   "outputs": [],
   "source": [
    "\"test\" == \"tesst\""
   ]
  },
  {
   "cell_type": "code",
   "execution_count": null,
   "id": "29bc0c75",
   "metadata": {},
   "outputs": [],
   "source": [
    "\"test\" == \"test\""
   ]
  },
  {
   "cell_type": "markdown",
   "id": "4b84e1b8",
   "metadata": {},
   "source": [
    "### Lists (danh sách)\n",
    "Danh sách là một chuỗi của các đối tượng (objects)."
   ]
  },
  {
   "cell_type": "code",
   "execution_count": null,
   "id": "e47e8152",
   "metadata": {},
   "outputs": [],
   "source": [
    "fruit = [\"apple\", \"banana\", \"grape\"]"
   ]
  },
  {
   "cell_type": "code",
   "execution_count": null,
   "id": "13a83704",
   "metadata": {},
   "outputs": [],
   "source": [
    "type(fruit)"
   ]
  },
  {
   "cell_type": "code",
   "execution_count": null,
   "id": "aa2694d7",
   "metadata": {},
   "outputs": [],
   "source": [
    "numbers = [3, 4, 6, 7]"
   ]
  },
  {
   "cell_type": "code",
   "execution_count": null,
   "id": "968d92e3",
   "metadata": {},
   "outputs": [],
   "source": [
    "type(numbers)"
   ]
  },
  {
   "cell_type": "code",
   "execution_count": null,
   "id": "530cb080",
   "metadata": {},
   "outputs": [],
   "source": [
    "ls = [ 1, 2, \"apple\", \"banana\"]"
   ]
  },
  {
   "cell_type": "code",
   "execution_count": null,
   "id": "2b8bca92",
   "metadata": {},
   "outputs": [],
   "source": [
    "type(ls)"
   ]
  },
  {
   "cell_type": "code",
   "execution_count": null,
   "id": "2d0cde80",
   "metadata": {},
   "outputs": [],
   "source": [
    "fruit[0]"
   ]
  },
  {
   "cell_type": "code",
   "execution_count": null,
   "id": "ecd4b320",
   "metadata": {},
   "outputs": [],
   "source": [
    "fruit[-1]"
   ]
  },
  {
   "cell_type": "code",
   "execution_count": null,
   "id": "6351b39b",
   "metadata": {},
   "outputs": [],
   "source": [
    "colors = [\"blue\", \"red\", \"green\"]"
   ]
  },
  {
   "cell_type": "code",
   "execution_count": null,
   "id": "2e770878",
   "metadata": {},
   "outputs": [],
   "source": [
    "type(colors)"
   ]
  },
  {
   "cell_type": "code",
   "execution_count": null,
   "id": "6a6d1e99",
   "metadata": {},
   "outputs": [],
   "source": [
    "colors[2]"
   ]
  },
  {
   "cell_type": "code",
   "execution_count": null,
   "id": "e6122f45",
   "metadata": {},
   "outputs": [],
   "source": [
    "print(colors[2])"
   ]
  },
  {
   "cell_type": "markdown",
   "id": "110c3bce",
   "metadata": {},
   "source": [
    "### Một số hàm/phương thức cho list"
   ]
  },
  {
   "cell_type": "markdown",
   "id": "a04ac20f",
   "metadata": {},
   "source": [
    "slicing: Lấy danh sách con\n",
    "ls[begin:end:step]"
   ]
  },
  {
   "cell_type": "code",
   "execution_count": null,
   "id": "158f446c",
   "metadata": {},
   "outputs": [],
   "source": [
    "lst = [10, 20, 30, 40, 50, 60, 70, 80, 90]"
   ]
  },
  {
   "cell_type": "code",
   "execution_count": null,
   "id": "0a98d2b9",
   "metadata": {},
   "outputs": [],
   "source": [
    "lst[0:3]"
   ]
  },
  {
   "cell_type": "code",
   "execution_count": null,
   "id": "27cb0a67",
   "metadata": {},
   "outputs": [],
   "source": [
    "lst[4:8]"
   ]
  },
  {
   "cell_type": "code",
   "execution_count": null,
   "id": "5d79a97a",
   "metadata": {},
   "outputs": [],
   "source": [
    "lst[-5:-3]"
   ]
  },
  {
   "cell_type": "code",
   "execution_count": null,
   "id": "5089c7ad",
   "metadata": {},
   "outputs": [],
   "source": [
    "lst[:]"
   ]
  },
  {
   "cell_type": "code",
   "execution_count": null,
   "id": "1dd05191",
   "metadata": {},
   "outputs": [],
   "source": [
    "lst[3:]"
   ]
  },
  {
   "cell_type": "code",
   "execution_count": null,
   "id": "2fa4a9f7",
   "metadata": {},
   "outputs": [],
   "source": [
    "lst[::2]"
   ]
  },
  {
   "cell_type": "code",
   "execution_count": null,
   "id": "25f71797",
   "metadata": {},
   "outputs": [],
   "source": [
    "lst[::3]"
   ]
  },
  {
   "cell_type": "code",
   "execution_count": null,
   "id": "46e7915b",
   "metadata": {},
   "outputs": [],
   "source": [
    "lst[::-1]"
   ]
  },
  {
   "cell_type": "code",
   "execution_count": null,
   "id": "602629b1",
   "metadata": {},
   "outputs": [],
   "source": [
    "# Insert\n",
    "lst=[1,2,3]"
   ]
  },
  {
   "cell_type": "code",
   "execution_count": null,
   "id": "c1f49aba",
   "metadata": {},
   "outputs": [],
   "source": [
    "lst.insert(2,9)"
   ]
  },
  {
   "cell_type": "code",
   "execution_count": null,
   "id": "9f51147e",
   "metadata": {},
   "outputs": [],
   "source": [
    "lst"
   ]
  },
  {
   "cell_type": "code",
   "execution_count": null,
   "id": "44b80cbe",
   "metadata": {},
   "outputs": [],
   "source": [
    "lst.insert(0, 8)"
   ]
  },
  {
   "cell_type": "code",
   "execution_count": null,
   "id": "3e52ebc3",
   "metadata": {},
   "outputs": [],
   "source": [
    "lst"
   ]
  },
  {
   "cell_type": "code",
   "execution_count": null,
   "id": "7bc29bdd",
   "metadata": {},
   "outputs": [],
   "source": [
    "# append\n",
    "lst.append(11)"
   ]
  },
  {
   "cell_type": "code",
   "execution_count": null,
   "id": "f56838b1",
   "metadata": {},
   "outputs": [],
   "source": [
    "lst"
   ]
  },
  {
   "cell_type": "code",
   "execution_count": null,
   "id": "720b6bc9",
   "metadata": {},
   "outputs": [],
   "source": [
    "lst.append(5)"
   ]
  },
  {
   "cell_type": "code",
   "execution_count": null,
   "id": "10d4446d",
   "metadata": {},
   "outputs": [],
   "source": [
    "lst.append(8)"
   ]
  },
  {
   "cell_type": "code",
   "execution_count": null,
   "id": "5683f072",
   "metadata": {},
   "outputs": [],
   "source": [
    "lst"
   ]
  },
  {
   "cell_type": "code",
   "execution_count": null,
   "id": "44c96a80",
   "metadata": {},
   "outputs": [],
   "source": [
    "# Remove\n",
    "lst.remove(8)"
   ]
  },
  {
   "cell_type": "code",
   "execution_count": null,
   "id": "bf363b42",
   "metadata": {},
   "outputs": [],
   "source": [
    "lst"
   ]
  },
  {
   "cell_type": "code",
   "execution_count": null,
   "id": "c6a079fc",
   "metadata": {},
   "outputs": [],
   "source": [
    "# reverse\n",
    "lst.reverse()"
   ]
  },
  {
   "cell_type": "code",
   "execution_count": null,
   "id": "6ccc015c",
   "metadata": {},
   "outputs": [],
   "source": [
    "lst"
   ]
  },
  {
   "cell_type": "code",
   "execution_count": null,
   "id": "589e40e8",
   "metadata": {},
   "outputs": [],
   "source": [
    "del lst[3]"
   ]
  },
  {
   "cell_type": "code",
   "execution_count": null,
   "id": "6de29470",
   "metadata": {},
   "outputs": [],
   "source": [
    "lst"
   ]
  },
  {
   "cell_type": "code",
   "execution_count": null,
   "id": "594d5e9f",
   "metadata": {},
   "outputs": [],
   "source": [
    "# sort\n",
    "lst.sort()"
   ]
  },
  {
   "cell_type": "code",
   "execution_count": null,
   "id": "6838a60b",
   "metadata": {},
   "outputs": [],
   "source": [
    "lst"
   ]
  },
  {
   "cell_type": "code",
   "execution_count": null,
   "id": "c6e4c5e0",
   "metadata": {},
   "outputs": [],
   "source": [
    "lst.sort(reverse=True)"
   ]
  },
  {
   "cell_type": "code",
   "execution_count": null,
   "id": "75142e12",
   "metadata": {},
   "outputs": [],
   "source": [
    "lst"
   ]
  },
  {
   "cell_type": "markdown",
   "id": "0499d4bc",
   "metadata": {},
   "source": [
    "### Danh sách đa chiều (Ma trận là danh sách 2 chiều)"
   ]
  },
  {
   "cell_type": "code",
   "execution_count": null,
   "id": "c440b7dc",
   "metadata": {},
   "outputs": [],
   "source": [
    "matrix =[\n",
    "    [10, 13, 15],\n",
    "    [40, 6, 8],\n",
    "    [4, 5, 10],\n",
    "]"
   ]
  },
  {
   "cell_type": "code",
   "execution_count": null,
   "id": "ebfd9e91",
   "metadata": {},
   "outputs": [],
   "source": [
    "matrix"
   ]
  },
  {
   "cell_type": "code",
   "execution_count": null,
   "id": "b4c9a97c",
   "metadata": {},
   "outputs": [],
   "source": []
  },
  {
   "cell_type": "code",
   "execution_count": null,
   "id": "f18c0008",
   "metadata": {},
   "outputs": [],
   "source": [
    "matrix[0][2]"
   ]
  },
  {
   "cell_type": "markdown",
   "id": "fd278616",
   "metadata": {},
   "source": [
    "### Biếu thức điều kiện và vòng lặp"
   ]
  },
  {
   "cell_type": "markdown",
   "id": "861c2d23",
   "metadata": {},
   "source": [
    "### if Statement"
   ]
  },
  {
   "cell_type": "code",
   "execution_count": null,
   "id": "ef6fcd02",
   "metadata": {},
   "outputs": [],
   "source": [
    "name = input(\"Nhập vào tên của bạn:\")"
   ]
  },
  {
   "cell_type": "code",
   "execution_count": null,
   "id": "844786c2",
   "metadata": {},
   "outputs": [],
   "source": [
    "if name == \"Hoàng\":\n",
    "    print(\"Hi Hoàng\")\n",
    "elif name == \"Bảnh\":\n",
    "    print(\"Hi Bảnh\")\n",
    "else:\n",
    "        print(\"Khong phai la Hoang, ma la \", name)"
   ]
  },
  {
   "cell_type": "markdown",
   "id": "6daa665c",
   "metadata": {},
   "source": [
    "### Vòng lặp (loops)\n",
    "-Counting loops (lặp đếm)\n",
    "-Conditional loops ( lặp điều kiện)"
   ]
  },
  {
   "cell_type": "code",
   "execution_count": null,
   "id": "c92f12d1",
   "metadata": {},
   "outputs": [],
   "source": [
    "# Counting loops - for\n",
    "for mynum in [1, 2, 3, 4, 5]:\n",
    "    newnum = mynum + 1\n",
    "    print(\"Số mới là\", newnum)"
   ]
  },
  {
   "cell_type": "code",
   "execution_count": null,
   "id": "894c0990",
   "metadata": {},
   "outputs": [],
   "source": [
    "# Conditional loops - while\n",
    "count = 0\n",
    "while (count < 10):\n",
    "    print(\"Số đếm là:\", count\n",
    "          count = count + 1)"
   ]
  },
  {
   "cell_type": "code",
   "execution_count": null,
   "id": "89ab3f06",
   "metadata": {},
   "outputs": [],
   "source": [
    "# Conditional loops - while\n",
    "count = 0\n",
    "while (count < 10):\n",
    "    count = count + 1\n",
    "    print(\"Số đếm là:\", count)"
   ]
  },
  {
   "cell_type": "markdown",
   "id": "60dd9843",
   "metadata": {},
   "source": [
    "### Break & continue"
   ]
  },
  {
   "cell_type": "code",
   "execution_count": null,
   "id": "7c79b60a",
   "metadata": {},
   "outputs": [],
   "source": [
    "count = 0\n",
    "while (count < 10):\n",
    "    count = count + 1\n",
    "    print(\"Số đếm là:\", count)\n",
    "    if count == 5: \n",
    "       break\n",
    "    "
   ]
  },
  {
   "cell_type": "code",
   "execution_count": null,
   "id": "4cac0f5a",
   "metadata": {
    "scrolled": true
   },
   "outputs": [],
   "source": [
    "while True:\n",
    "    a = int(input(\"Nhập vào một số:\"))\n",
    "    print(\"Giá trị số bạn nhập là:\", a)\n",
    "    s=input(\"Bạn có muốn tiếp tục không?(c/k):\")\n",
    "    if s == \"c\":\n",
    "        break\n",
    "print(\"bye bye!\")"
   ]
  },
  {
   "cell_type": "code",
   "execution_count": null,
   "id": "6aef3834",
   "metadata": {},
   "outputs": [],
   "source": [
    "# continue\n",
    "count = 0\n",
    "while (count < 10):\n",
    "    \n",
    "    if count == 5:\n",
    "        count = count + 1\n",
    "        continue\n",
    "    print(\"Số đếm là:\", count)\n",
    "    count = count + 1"
   ]
  },
  {
   "cell_type": "markdown",
   "id": "2d5eb316",
   "metadata": {},
   "source": [
    "### Functions (Hàm)"
   ]
  },
  {
   "cell_type": "code",
   "execution_count": null,
   "id": "86592279",
   "metadata": {},
   "outputs": [],
   "source": [
    "def say_hello():\n",
    "    print(\"Hello World!\")"
   ]
  },
  {
   "cell_type": "code",
   "execution_count": null,
   "id": "67b32082",
   "metadata": {},
   "outputs": [],
   "source": [
    "say_hello()"
   ]
  },
  {
   "cell_type": "code",
   "execution_count": null,
   "id": "81c8a4a4",
   "metadata": {},
   "outputs": [],
   "source": [
    "# Có tham số\n",
    "def say_hello(myname):\n",
    "    print(\"Hello\", myname)"
   ]
  },
  {
   "cell_type": "code",
   "execution_count": null,
   "id": "6354c297",
   "metadata": {},
   "outputs": [],
   "source": [
    "say_hello(\"HK\")"
   ]
  },
  {
   "cell_type": "code",
   "execution_count": null,
   "id": "a2fb6f15",
   "metadata": {},
   "outputs": [],
   "source": [
    "say_hello(\"?\")"
   ]
  },
  {
   "cell_type": "markdown",
   "id": "89b09d01",
   "metadata": {},
   "source": [
    "Bài tập:\n",
    "Viết một hàm: Kiểm tra một số, in ra màn hình \"là số lẻ\" nếu số đó là số lẻ, \"là số chẵn\" nếu đó là số chẵn."
   ]
  },
  {
   "cell_type": "code",
   "execution_count": null,
   "id": "cd04b68e",
   "metadata": {},
   "outputs": [],
   "source": [
    "def check_num(mynum):\n",
    "    if mynum % 2 == 0:\n",
    "        print(\"là số chẵn\")\n",
    "    else:\n",
    "        print(\"là số lẻ\")"
   ]
  },
  {
   "cell_type": "code",
   "execution_count": null,
   "id": "4d422be5",
   "metadata": {},
   "outputs": [],
   "source": [
    "check_num(6)"
   ]
  },
  {
   "cell_type": "code",
   "execution_count": null,
   "id": "da98e648",
   "metadata": {},
   "outputs": [],
   "source": [
    "check_num(12)"
   ]
  },
  {
   "cell_type": "code",
   "execution_count": null,
   "id": "1ac2948c",
   "metadata": {},
   "outputs": [],
   "source": [
    "check_num(5)"
   ]
  },
  {
   "cell_type": "markdown",
   "id": "9699e083",
   "metadata": {},
   "source": [
    "Viết một hàm có tham số là 2 số, in ra kết quả là tích của 2 số đó"
   ]
  },
  {
   "cell_type": "code",
   "execution_count": null,
   "id": "b06782bc",
   "metadata": {},
   "outputs": [],
   "source": [
    "def multiply(num1, num2):\n",
    "    print(num1 * num2)"
   ]
  },
  {
   "cell_type": "code",
   "execution_count": null,
   "id": "d6b7d380",
   "metadata": {},
   "outputs": [],
   "source": [
    "multiply(2, 8)"
   ]
  },
  {
   "cell_type": "code",
   "execution_count": null,
   "id": "95d4fc6e",
   "metadata": {},
   "outputs": [],
   "source": [
    "multiply(67, 4)"
   ]
  },
  {
   "cell_type": "markdown",
   "id": "00c5af6d",
   "metadata": {},
   "source": [
    "## Functions: Output (Giá trị trả về của hàm)"
   ]
  },
  {
   "cell_type": "code",
   "execution_count": null,
   "id": "c220e5a7",
   "metadata": {},
   "outputs": [],
   "source": [
    "multiply(2, 6)"
   ]
  },
  {
   "cell_type": "code",
   "execution_count": null,
   "id": "0fde77ff",
   "metadata": {},
   "outputs": [],
   "source": [
    "kq = multiply(2, 6)"
   ]
  },
  {
   "cell_type": "code",
   "execution_count": null,
   "id": "ff037403",
   "metadata": {},
   "outputs": [],
   "source": [
    "kq"
   ]
  },
  {
   "cell_type": "code",
   "execution_count": null,
   "id": "19784f6d",
   "metadata": {},
   "outputs": [],
   "source": [
    "def multiply(num1, num2):\n",
    "    return num1 * num2"
   ]
  },
  {
   "cell_type": "code",
   "execution_count": null,
   "id": "c360d4b5",
   "metadata": {},
   "outputs": [],
   "source": [
    "multiply(2, 6)"
   ]
  },
  {
   "cell_type": "code",
   "execution_count": null,
   "id": "33111295",
   "metadata": {},
   "outputs": [],
   "source": [
    "kq = multiply(2, 7)"
   ]
  },
  {
   "cell_type": "code",
   "execution_count": null,
   "id": "04a1cd6f",
   "metadata": {},
   "outputs": [],
   "source": [
    "kq"
   ]
  },
  {
   "cell_type": "code",
   "execution_count": null,
   "id": "585cebc5",
   "metadata": {},
   "outputs": [],
   "source": [
    "def hello_there():\n",
    "    print (\"Type your name:\")\n",
    "    name = input()\n",
    "    print(\"Hi\", name, \"how are you?\")"
   ]
  },
  {
   "cell_type": "code",
   "execution_count": null,
   "id": "d36e14e7",
   "metadata": {},
   "outputs": [],
   "source": [
    "hello_there()"
   ]
  },
  {
   "cell_type": "code",
   "execution_count": null,
   "id": "f67fa0f2",
   "metadata": {},
   "outputs": [],
   "source": [
    "def hello_there():\n",
    "    print (\"Type your name:\")\n",
    "    name = input()\n",
    "    print(\"Hi\", name, \"how are you?\")"
   ]
  },
  {
   "cell_type": "code",
   "execution_count": null,
   "id": "8b451914",
   "metadata": {},
   "outputs": [],
   "source": [
    "hello_there()"
   ]
  },
  {
   "cell_type": "markdown",
   "id": "092fe472",
   "metadata": {},
   "source": [
    "### Modules"
   ]
  },
  {
   "cell_type": "code",
   "execution_count": null,
   "id": "e0437775",
   "metadata": {},
   "outputs": [],
   "source": [
    "import random"
   ]
  },
  {
   "cell_type": "code",
   "execution_count": null,
   "id": "83f8427a",
   "metadata": {},
   "outputs": [],
   "source": [
    "random.randint(1,100)"
   ]
  },
  {
   "cell_type": "code",
   "execution_count": null,
   "id": "4b8aa154",
   "metadata": {},
   "outputs": [],
   "source": [
    "import mymodule"
   ]
  },
  {
   "cell_type": "code",
   "execution_count": null,
   "id": "f9e585d0",
   "metadata": {},
   "outputs": [],
   "source": [
    "mymodule.check_num(4)"
   ]
  },
  {
   "cell_type": "markdown",
   "id": "1d800319",
   "metadata": {},
   "source": [
    "### Let make a game\n"
   ]
  },
  {
   "cell_type": "markdown",
   "id": "5825aa17",
   "metadata": {},
   "source": [
    "Game 1:\n",
    "Viết hàm game1 chứa code trong slide 79"
   ]
  },
  {
   "cell_type": "code",
   "execution_count": 22,
   "id": "0e6b153c",
   "metadata": {},
   "outputs": [
    {
     "name": "stdout",
     "output_type": "stream",
     "text": [
      "What number am I thinking of? 7\n"
     ]
    },
    {
     "ename": "NameError",
     "evalue": "name 'secret_number' is not defined",
     "output_type": "error",
     "traceback": [
      "\u001b[0;31m---------------------------------------------------------------------------\u001b[0m",
      "\u001b[0;31mNameError\u001b[0m                                 Traceback (most recent call last)",
      "Cell \u001b[0;32mIn [22], line 7\u001b[0m\n\u001b[1;32m      5\u001b[0m     secret_number \u001b[38;5;241m=\u001b[39m \u001b[38;5;241m7\u001b[39m\n\u001b[1;32m      6\u001b[0m guess \u001b[38;5;241m=\u001b[39m \u001b[38;5;28mint\u001b[39m(\u001b[38;5;28minput\u001b[39m(\u001b[38;5;124m\"\u001b[39m\u001b[38;5;124mWhat number am I thinking of? \u001b[39m\u001b[38;5;124m\"\u001b[39m))\n\u001b[0;32m----> 7\u001b[0m \u001b[38;5;28;01mif\u001b[39;00m \u001b[43msecret_number\u001b[49m \u001b[38;5;241m==\u001b[39m guess:\n\u001b[1;32m      8\u001b[0m      \u001b[38;5;28mprint\u001b[39m(\u001b[38;5;124m\"\u001b[39m\u001b[38;5;124mYay! You got it.\u001b[39m\u001b[38;5;124m\"\u001b[39m)\n\u001b[1;32m      9\u001b[0m \u001b[38;5;28;01melse\u001b[39;00m:\n",
      "\u001b[0;31mNameError\u001b[0m: name 'secret_number' is not defined"
     ]
    }
   ],
   "source": [
    "def guess1():\n",
    "    \"\"\"\n",
    "    Hàm chơi đoán số: Nhập số từ bàn phím để đoán số bí mật\n",
    "    \"\"\"\n",
    "    secret_number = 7\n",
    "guess = int(input(\"What number am I thinking of? \"))\n",
    "if secret_number == guess:\n",
    "     print(\"Yay! You got it.\")\n",
    "else:\n",
    "     print(\"No, that's not it.\")"
   ]
  },
  {
   "cell_type": "code",
   "execution_count": null,
   "id": "250d1b60",
   "metadata": {},
   "outputs": [],
   "source": []
  },
  {
   "cell_type": "code",
   "execution_count": null,
   "id": "db76e400",
   "metadata": {},
   "outputs": [],
   "source": []
  },
  {
   "cell_type": "markdown",
   "id": "0f53554c",
   "metadata": {},
   "source": [
    "# Docstring (Hướng dẫn sử dụng hàm)"
   ]
  },
  {
   "cell_type": "code",
   "execution_count": 24,
   "id": "616d19c4",
   "metadata": {
    "scrolled": true
   },
   "outputs": [
    {
     "name": "stdout",
     "output_type": "stream",
     "text": [
      "Object `random.randint` not found.\n"
     ]
    }
   ],
   "source": [
    "random.randint?"
   ]
  },
  {
   "cell_type": "markdown",
   "id": "588d126f",
   "metadata": {},
   "source": [
    "# Auto Reload molude"
   ]
  },
  {
   "cell_type": "code",
   "execution_count": 25,
   "id": "ea734289",
   "metadata": {},
   "outputs": [],
   "source": [
    "%load_ext autoreload\n",
    "%autoreload 2"
   ]
  },
  {
   "cell_type": "code",
   "execution_count": null,
   "id": "12c75e90",
   "metadata": {},
   "outputs": [],
   "source": []
  },
  {
   "cell_type": "code",
   "execution_count": null,
   "id": "5cdf0734",
   "metadata": {},
   "outputs": [],
   "source": []
  },
  {
   "cell_type": "code",
   "execution_count": null,
   "id": "48973b72",
   "metadata": {},
   "outputs": [],
   "source": []
  },
  {
   "cell_type": "code",
   "execution_count": null,
   "id": "6926bd6e",
   "metadata": {},
   "outputs": [],
   "source": []
  }
 ],
 "metadata": {
  "kernelspec": {
   "display_name": "Python 3 (ipykernel)",
   "language": "python",
   "name": "python3"
  },
  "language_info": {
   "codemirror_mode": {
    "name": "ipython",
    "version": 3
   },
   "file_extension": ".py",
   "mimetype": "text/x-python",
   "name": "python",
   "nbconvert_exporter": "python",
   "pygments_lexer": "ipython3",
   "version": "3.9.7"
  }
 },
 "nbformat": 4,
 "nbformat_minor": 5
}
